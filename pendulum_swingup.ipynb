{
 "cells": [
  {
   "cell_type": "code",
   "execution_count": null,
   "metadata": {},
   "outputs": [],
   "source": [
    "#pendulum swing up \n",
    "\n",
    "using Pkg\n",
    "Pkg.activate(\".\")\n",
    "using LinearAlgebra\n",
    "using ForwardDiff\n",
    "using Plots \n",
    "using TSSOS \n",
    "using DynamicPolynomials\n",
    "using DifferentialEquations  \n",
    "using BlockDiagonals "
   ]
  },
  {
   "cell_type": "code",
   "execution_count": null,
   "metadata": {},
   "outputs": [],
   "source": [
    "#Pendulum parameters\n",
    "\n",
    "#pendelum length (m)\n",
    "l = 1.0\n",
    "\n",
    "#mass of pendelum kg (assuming massless rod)\n",
    "m = 1.0\n",
    "\n",
    "#timestep (s) \n",
    "h = 0.1 #10 Hz\n",
    "\n",
    "#h = 0.01 #100 Hz\n",
    "\n",
    "#define gravity\n",
    "\n",
    "g = [0.0; -9.81]"
   ]
  },
  {
   "cell_type": "code",
   "execution_count": null,
   "metadata": {},
   "outputs": [],
   "source": [
    "#generate a feasible initial condition\n",
    "#      ^ y\n",
    "#______|__________->x\n",
    "#      |\\\n",
    "#      |θ\\\n",
    "#      |  \\\n",
    "#      |   O\n",
    "\n",
    "#initial angle \n",
    "θ_initial = pi/4\n",
    "\n",
    "#initial cartesian position based off this angle\n",
    "x_initial = l*sin(θ_initial)\n",
    "y_initial = -l*cos(θ_initial)\n",
    "\n",
    "\n",
    "#closer to the upright goal (working with this initial condition)\n",
    "#x_initial = l*sin(θ_initial)\n",
    "#y_initial = l*cos(θ_initial)\n",
    "\n",
    "\n",
    "#initial velocity \n",
    "vx_initial = 0\n",
    "vy_initial = 0\n",
    "\n",
    "\n",
    "#initialize as 0...\n",
    "λ_initial = 0"
   ]
  },
  {
   "cell_type": "code",
   "execution_count": null,
   "metadata": {},
   "outputs": [],
   "source": [
    "#horizon\n",
    "#3 seconds when running at 10 Hz\n",
    "#seems to be working\n",
    "#N = 30\n",
    "\n",
    "#5 seconds\n",
    "N = 50"
   ]
  },
  {
   "cell_type": "code",
   "execution_count": null,
   "metadata": {},
   "outputs": [],
   "source": [
    "#gravity vector \n",
    "g = [0; -9.81] "
   ]
  },
  {
   "cell_type": "code",
   "execution_count": null,
   "metadata": {},
   "outputs": [],
   "source": [
    "#state is x = [qx, qy, vx, vy]\n",
    "\n",
    "#control is u = [Fx, Fy]"
   ]
  },
  {
   "cell_type": "code",
   "execution_count": null,
   "metadata": {},
   "outputs": [],
   "source": [
    "#this is the state trajectory we are solving for \n",
    "@polyvar x[1:4, 1:N]\n",
    "\n",
    "#this is the control trajectory \n",
    "@polyvar u[1:2, 1:N-1]\n",
    "\n",
    "#this is the slack variable taking care of the constraint \n",
    "#there are actually N-1 lambdas, think of it as a control\n",
    "#initialization does not matter\n",
    "@polyvar λ[1:1:N-1] "
   ]
  },
  {
   "cell_type": "code",
   "execution_count": null,
   "metadata": {},
   "outputs": [],
   "source": [
    "#state weighting matrix \n",
    "Q = 1000*Matrix(1.0*I, 4,4)\n",
    "\n",
    "#controls weighting matrix \n",
    "R = 1*Matrix(1.0*I, 2,2)\n",
    "\n",
    "#terminal cost weighting matrix\n",
    "Qf = 1e6*Matrix(1.0*I, 4,4)"
   ]
  },
  {
   "cell_type": "code",
   "execution_count": null,
   "metadata": {},
   "outputs": [],
   "source": [
    "#goal position is upright \n",
    "\n",
    "#      0\n",
    "#      |\n",
    "#      | y\n",
    "#______|__________->x\n",
    "#      |        \n",
    "\n",
    "xgoal = [0.0, l , 0.0, 0.0]"
   ]
  },
  {
   "cell_type": "code",
   "execution_count": null,
   "metadata": {},
   "outputs": [],
   "source": [
    "#cost function (quadratic LQR cost)\n",
    "f = 0\n",
    "for i = 1:N-1\n",
    "\n",
    "    f += (x[:, i] - xgoal)'*Q*(x[:, i] - xgoal) + u[:, i]'*R*u[:, i]\n",
    "\n",
    "end\n",
    "\n",
    "#terminal cost \n",
    "f+=x[:, N]'*Qf*x[:, N]"
   ]
  },
  {
   "cell_type": "code",
   "execution_count": null,
   "metadata": {},
   "outputs": [],
   "source": [
    "#initialize equality and inequality constraints \n",
    "eq = []\n",
    "ineq = []"
   ]
  },
  {
   "cell_type": "code",
   "execution_count": null,
   "metadata": {},
   "outputs": [],
   "source": [
    "#set the initial condition constraints\n",
    "append!(eq, [x[1,1] - x_initial])\n",
    "append!(eq, [x[2,1] - y_initial])\n",
    "append!(eq, [x[3,1] - vx_initial])\n",
    "append!(eq, [x[4,1] - vy_initial])"
   ]
  },
  {
   "cell_type": "code",
   "execution_count": null,
   "metadata": {},
   "outputs": [],
   "source": [
    "#set the dynamics constraints between each timestep \n",
    "\n",
    "for i=1:N-1\n",
    "\n",
    "    #implicit euler integration on position\n",
    "    append!(eq, x[1:2, i]+h*x[3:4, i+1]-x[1:2, i+1])\n",
    "\n",
    "    #implicit velocity constraints \n",
    "    #lambda k is between the two timesteps (technically the same as i+1)\n",
    "    append!(eq, x[3:4, i] + h*(g+(2/m)*λ[i]*x[1:2, i+1] + (u[:,i]/m)) - x[3:4, i+1])\n",
    "\n",
    "    #length constraint\n",
    "    #starts at i+1 because we assume we give it a feasible initial condition \n",
    "    append!(eq, [x[1:2, i+1]'*x[1:2, i+1] - l^2])\n",
    "\n",
    "end"
   ]
  },
  {
   "cell_type": "code",
   "execution_count": null,
   "metadata": {},
   "outputs": [],
   "source": [
    "#add in control constraints \n",
    "for i=1:N-1\n",
    "\n",
    "    #control in x and y less than or equal to 10\n",
    "    append!(ineq, [10-u[1,i]])\n",
    "    append!(ineq, [10-u[2,i]])\n",
    "\n",
    "end"
   ]
  },
  {
   "cell_type": "code",
   "execution_count": null,
   "metadata": {},
   "outputs": [],
   "source": [
    "pop = append!([f], ineq)"
   ]
  },
  {
   "cell_type": "code",
   "execution_count": null,
   "metadata": {},
   "outputs": [],
   "source": [
    "pop = append!(pop, eq)"
   ]
  },
  {
   "cell_type": "code",
   "execution_count": null,
   "metadata": {},
   "outputs": [],
   "source": [
    "#relaxation order\n",
    "d = 2"
   ]
  },
  {
   "cell_type": "code",
   "execution_count": null,
   "metadata": {},
   "outputs": [],
   "source": [
    "#concatenate all the variables together \n",
    "var = [vec(x); vec(u); λ]"
   ]
  },
  {
   "cell_type": "code",
   "execution_count": null,
   "metadata": {},
   "outputs": [],
   "source": [
    "#solve \n",
    "\n",
    "#no correlative sparsity (runs slower)\n",
    "#opt, sol, data = tssos_first(pop, var, d, numeq=length(eq), TS=\"MD\")\n",
    "\n",
    "\n",
    "#extract the moment matrix without ipopt solve to check global optimality (with chordal sparsity and term sparsity)\n",
    "#opt, sol, data = cs_tssos_first(pop, var, d, numeq=length(eq), TS=\"MD\", solution=false, Mommat=true)\n",
    "\n",
    "#solution = true, extracts an approximately optimal solution\n",
    "opt, sol, data = cs_tssos_first(pop, var, d, numeq=length(eq), TS=\"MD\", solution=true)"
   ]
  },
  {
   "cell_type": "code",
   "execution_count": null,
   "metadata": {},
   "outputs": [],
   "source": [
    "#0 if globally optimal \n",
    "data.flag "
   ]
  },
  {
   "cell_type": "code",
   "execution_count": null,
   "metadata": {},
   "outputs": [],
   "source": [
    "#these are the block diagonals of the moment matrix \n",
    "data.moment"
   ]
  },
  {
   "cell_type": "code",
   "execution_count": null,
   "metadata": {},
   "outputs": [],
   "source": [
    "#first block \n",
    "data.moment[1]"
   ]
  },
  {
   "cell_type": "code",
   "execution_count": null,
   "metadata": {},
   "outputs": [],
   "source": [
    "data.moment "
   ]
  },
  {
   "cell_type": "code",
   "execution_count": null,
   "metadata": {},
   "outputs": [],
   "source": [
    "#need to convert the data type to use this function\n",
    "#mom = BlockDiagonal(Matrix(data.moment)) "
   ]
  },
  {
   "cell_type": "code",
   "execution_count": null,
   "metadata": {},
   "outputs": [],
   "source": [
    "all_condition_numbers = zeros(size(data.moment)[1]) \n",
    "\n",
    "for i=1:size(data.moment)[1]\n",
    "\n",
    "    all_condition_numbers[i] = cond(data.moment[i])\n",
    "    \n",
    "end"
   ]
  },
  {
   "cell_type": "code",
   "execution_count": null,
   "metadata": {},
   "outputs": [],
   "source": [
    "all_condition_numbers "
   ]
  },
  {
   "cell_type": "code",
   "execution_count": null,
   "metadata": {},
   "outputs": [],
   "source": [
    "#construct moment matrix\n",
    "\n",
    "#initialize row size and column size \n",
    "row_size = 0\n",
    "column_size = 0\n",
    "\n",
    "#get the amount of rows \n",
    "for i=1:size(data.moment)[1]\n",
    "\n",
    "    row_size += size(data.moment[i])[1]\n",
    "    column_size += size(data.moment[i])[2]\n",
    "\n",
    "end\n",
    "\n",
    "#get the amount of columns"
   ]
  },
  {
   "cell_type": "code",
   "execution_count": null,
   "metadata": {},
   "outputs": [],
   "source": [
    "#construct the moment matrix \n",
    "moment_matrix = zeros(row_size, column_size)\n",
    "\n",
    "#initialize row and column index \n",
    "row_index = 1\n",
    "column_index = 1\n",
    "\n",
    "for i=1:size(data.moment)[1]\n",
    "\n",
    "    moment_matrix[row_index:row_index + size(data.moment[i])[1]-1, column_index:column_index + size(data.moment[i])[2]-1] = data.moment[i]\n",
    "\n",
    "    row_index += size(data.moment[i])[1]\n",
    "    column_index += size(data.moment[i])[2]\n",
    "\n",
    "\n",
    "end"
   ]
  },
  {
   "cell_type": "code",
   "execution_count": null,
   "metadata": {},
   "outputs": [],
   "source": [
    "rank(moment_matrix) "
   ]
  },
  {
   "cell_type": "code",
   "execution_count": null,
   "metadata": {},
   "outputs": [],
   "source": [
    "cond(moment_matrix)"
   ]
  },
  {
   "cell_type": "code",
   "execution_count": null,
   "metadata": {},
   "outputs": [],
   "source": [
    "size(data.moment[100])"
   ]
  },
  {
   "cell_type": "code",
   "execution_count": null,
   "metadata": {},
   "outputs": [],
   "source": [
    "data.basis[1]"
   ]
  },
  {
   "cell_type": "code",
   "execution_count": null,
   "metadata": {},
   "outputs": [],
   "source": [
    "findmax(all_condition_numbers)  "
   ]
  },
  {
   "cell_type": "code",
   "execution_count": null,
   "metadata": {},
   "outputs": [],
   "source": [
    "sol "
   ]
  },
  {
   "cell_type": "code",
   "execution_count": null,
   "metadata": {},
   "outputs": [],
   "source": [
    "#need to reshape this \n",
    "x_traj = sol[1: size(vec(x))[1]]\n",
    "\n",
    "x_traj = reshape(x_traj, 4, N)"
   ]
  },
  {
   "cell_type": "code",
   "execution_count": null,
   "metadata": {},
   "outputs": [],
   "source": [
    "u_traj = sol[size(vec(x))[1]+1: size(vec(x))[1] + size(vec(u))[1]]\n",
    "\n",
    "u_traj = reshape(u_traj, 2, N-1)"
   ]
  },
  {
   "cell_type": "code",
   "execution_count": null,
   "metadata": {},
   "outputs": [],
   "source": [
    "λ_traj = sol[size(vec(x))[1] + size(vec(u))[1]+1: end]"
   ]
  },
  {
   "cell_type": "code",
   "execution_count": null,
   "metadata": {},
   "outputs": [],
   "source": [
    "plot(x_traj[1,:], label=false, title=\"X Position\")"
   ]
  },
  {
   "cell_type": "code",
   "execution_count": null,
   "metadata": {},
   "outputs": [],
   "source": [
    "plot(x_traj[2,:], title=\"Y Position\")"
   ]
  },
  {
   "cell_type": "code",
   "execution_count": null,
   "metadata": {},
   "outputs": [],
   "source": [
    "plot(x_traj[3,:], title=\"X Velocity\")"
   ]
  },
  {
   "cell_type": "code",
   "execution_count": null,
   "metadata": {},
   "outputs": [],
   "source": [
    "plot(x_traj[4,:], title=\"Y Velocity\")"
   ]
  },
  {
   "cell_type": "code",
   "execution_count": null,
   "metadata": {},
   "outputs": [],
   "source": [
    "plot(u_traj[1,:], title=\"Controls\", label=\"Fx\")\n",
    "plot!(u_traj[2,:], label=\"Fy\")"
   ]
  },
  {
   "cell_type": "code",
   "execution_count": null,
   "metadata": {},
   "outputs": [],
   "source": [
    "#check the constraints "
   ]
  },
  {
   "cell_type": "code",
   "execution_count": null,
   "metadata": {},
   "outputs": [],
   "source": [
    "constraint_check = zeros(5, N-1)"
   ]
  },
  {
   "cell_type": "code",
   "execution_count": null,
   "metadata": {},
   "outputs": [],
   "source": [
    "for i=1:N-1\n",
    "\n",
    "    constraint_check[1:2, i] = x_traj[1:2, i]+h*x_traj[3:4, i+1]-x_traj[1:2, i+1]\n",
    "\n",
    "    constraint_check[3:4, i] = x_traj[3:4, i] + h*(g+(2/m)*λ_traj[i]*x_traj[1:2, i+1] + (u_traj[:,i]/m)) - x_traj[3:4, i+1]\n",
    "\n",
    "    constraint_check[5, i] = x_traj[1:2, i+1]'*x_traj[1:2, i+1] - l^2\n",
    "end"
   ]
  },
  {
   "cell_type": "code",
   "execution_count": null,
   "metadata": {},
   "outputs": [],
   "source": [
    "constraint_check "
   ]
  },
  {
   "cell_type": "code",
   "execution_count": null,
   "metadata": {},
   "outputs": [],
   "source": [
    "#trajectory is dynamically feasible\n",
    "plot(constraint_check') "
   ]
  },
  {
   "cell_type": "code",
   "execution_count": null,
   "metadata": {},
   "outputs": [],
   "source": [
    "#working "
   ]
  }
 ],
 "metadata": {
  "kernelspec": {
   "display_name": "Julia 1.10.0",
   "language": "julia",
   "name": "julia-1.10"
  },
  "language_info": {
   "file_extension": ".jl",
   "mimetype": "application/julia",
   "name": "julia",
   "version": "1.10.0"
  }
 },
 "nbformat": 4,
 "nbformat_minor": 2
}
