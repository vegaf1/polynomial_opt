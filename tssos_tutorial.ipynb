{
 "cells": [
  {
   "cell_type": "code",
   "execution_count": 1,
   "metadata": {},
   "outputs": [
    {
     "name": "stderr",
     "output_type": "stream",
     "text": [
      "\u001b[32m\u001b[1m  Activating\u001b[22m\u001b[39m project at `~/Research/polynomial_opt`\n"
     ]
    }
   ],
   "source": [
    "#TSSOS tutorial \n",
    "using Pkg\n",
    "Pkg.activate(\".\")\n",
    "\n",
    "using TSSOS\n",
    "using DynamicPolynomials"
   ]
  },
  {
   "cell_type": "code",
   "execution_count": 2,
   "metadata": {},
   "outputs": [],
   "source": [
    "#the default basis is computed by the Newton polytope method\n",
    "\n",
    "#set newton=false in the input to use a standard monomial basis"
   ]
  },
  {
   "cell_type": "code",
   "execution_count": 3,
   "metadata": {},
   "outputs": [
    {
     "name": "stdout",
     "output_type": "stream",
     "text": [
      "*********************************** TSSOS ***********************************\n",
      "TSSOS is launching...\n",
      "Starting to compute the block structure...\n",
      "-----------------------------------------------------------------------------\n",
      "The sizes of PSD blocks:\n",
      "[4, 2]\n",
      "[1, 4]\n",
      "-----------------------------------------------------------------------------\n",
      "Obtained the block structure in 1.26255145 seconds.\n",
      "The maximal size of blocks is 4.\n",
      "Assembling the SDP...\n",
      "There are 17 affine constraints.\n",
      "Solving the SDP...\n",
      "Problem\n",
      "  Name                   :                 \n",
      "  Objective sense        : maximize        \n",
      "  Type                   : CONIC (conic optimization problem)\n",
      "  Constraints            : 17              \n",
      "  Affine conic cons.     : 0               \n",
      "  Disjunctive cons.      : 0               \n",
      "  Cones                  : 0               \n",
      "  Scalar variables       : 1               \n",
      "  Matrix variables       : 6 (scalarized: 32)\n",
      "  Integer variables      : 0               \n",
      "\n",
      "Optimizer started.\n",
      "Presolve started.\n",
      "Linear dependency checker started.\n",
      "Linear dependency checker terminated.\n",
      "Eliminator started.\n",
      "Freed constraints in eliminator : 0\n",
      "Eliminator terminated.\n",
      "Eliminator - tries                  : 1                 time                   : 0.00            \n",
      "Lin. dep.  - tries                  : 1                 time                   : 0.00            \n",
      "Lin. dep.  - primal attempts        : 1                 successes              : 1               \n",
      "Lin. dep.  - dual attempts          : 0                 successes              : 0               \n",
      "Lin. dep.  - primal deps.           : 0                 dual deps.             : 0               \n",
      "Presolve terminated. Time: 0.00    \n",
      "Optimizer  - threads                : 24              \n",
      "Optimizer  - solved problem         : the primal      \n",
      "Optimizer  - Constraints            : 17              \n",
      "Optimizer  - Cones                  : 5               \n",
      "Optimizer  - Scalar variables       : 14                conic                  : 14              \n",
      "Optimizer  - Semi-definite variables: 2                 scalarized             : 20              \n",
      "Factor     - setup time             : 0.00            \n",
      "Factor     - dense det. time        : 0.00              GP order time          : 0.00            \n",
      "Factor     - nonzeros before factor : 107               after factor           : 107             \n",
      "Factor     - dense dim.             : 0                 flops                  : 1.72e+03        \n",
      "ITE PFEAS    DFEAS    GFEAS    PRSTATUS   POBJ              DOBJ              MU       TIME  \n",
      "0   2.4e+00  1.0e+00  1.0e+00  0.00e+00   -0.000000000e+00  -0.000000000e+00  1.0e+00  0.00  \n",
      "1   6.6e-01  2.7e-01  1.1e-01  9.77e-01   4.135827035e-01   5.101895812e-01   2.7e-01  0.00  \n",
      "2   1.2e-01  4.9e-02  7.9e-03  9.60e-01   4.185205279e-01   4.366169060e-01   4.9e-02  0.00  \n",
      "3   1.5e-02  6.4e-03  3.5e-04  1.08e+00   4.648862739e-01   4.674076769e-01   6.4e-03  0.00  \n",
      "4   1.9e-03  8.0e-04  1.6e-05  1.04e+00   4.736314056e-01   4.739315249e-01   8.0e-04  0.00  \n",
      "5   6.0e-05  2.5e-05  8.6e-08  1.01e+00   4.752196978e-01   4.752287773e-01   2.5e-05  0.00  \n",
      "6   1.2e-06  4.8e-07  2.3e-10  1.00e+00   4.752735916e-01   4.752737656e-01   4.8e-07  0.00  \n",
      "7   6.8e-08  2.8e-08  3.2e-12  1.00e+00   4.752747033e-01   4.752747135e-01   2.8e-08  0.00  \n",
      "8   2.4e-09  1.5e-09  2.2e-14  1.00e+00   4.752747778e-01   4.752747781e-01   9.9e-10  0.00  \n",
      "Optimizer terminated. Time: 0.00    \n",
      "\n",
      "SDP solving time: 0.215408136 seconds.\n",
      "optimum = 0.47527477775112353\n",
      "\n",
      "******************************************************************************\n",
      "This program contains Ipopt, a library for large-scale nonlinear optimization.\n",
      " Ipopt is released as open source code under the Eclipse Public License (EPL).\n",
      "         For more information visit https://github.com/coin-or/Ipopt\n",
      "******************************************************************************\n",
      "\n",
      "Global optimality certified with relative optimality gap 0.000000%!\n"
     ]
    },
    {
     "data": {
      "text/plain": [
       "(0.47527477775112353, [0.4071248547842405, -0.6630025895308121, 0.4071248547842405], TSSOS.upop_data(3, 0, PolyVar{true}[x₁, x₂, x₃], x₁⁴ + x₂⁴ + x₃⁴ + x₁x₂x₃ + x₂ + 1, UInt8[0x04 0x00 … 0x00 0x00; 0x00 0x04 … 0x01 0x00; 0x00 0x00 … 0x00 0x00], [1, 1, 1, 1, 1, 1], UInt8[0x00 0x01 … 0x00 0x00; 0x00 0x00 … 0x01 0x00; 0x00 0x00 … 0x01 0x02], UInt8[0x00 0x00 … 0x02 0x04; 0x00 0x00 … 0x02 0x00; 0x00 0x02 … 0x00 0x00], 5, [4, 2, 2, 2, 2], Vector{UInt16}[[0x0001, 0x0005, 0x0007, 0x000a], [0x0003, 0x0008], [0x0004, 0x0006], [0x0001, 0x0003], [0x0002, 0x0009]], nothing, [[0.9999999987625958 0.1657471482273247 0.4395693811329822 0.16574714822766332; 0.1657471482273247 0.02747211687602576 0.072857371512384 0.027472117082552126; 0.4395693811329822 0.072857371512384 0.19322124023754925 0.07285737151253285; 0.16574714822766332 0.027472117082552126 0.07285737151253285 0.02747211687613802], [0.4395693811329822 -0.109890407190693; -0.109890407190693 0.027472117082552126], [0.16574714822766332 -0.109890407190693; -0.109890407190693 0.072857371512384], [0.9999999987625958 -0.6630002874484957; -0.6630002874484957 0.4395693811329822], [0.1657471482273247 -0.109890407190693; -0.109890407190693 0.07285737151253285]], \"Mosek\", MathOptInterface.OPTIMAL, 0.0001, 0))"
      ]
     },
     "metadata": {},
     "output_type": "display_data"
    }
   ],
   "source": [
    "#unconstraint polynomial optimization \n",
    "\n",
    "#definte the polynomial variable\n",
    "@polyvar x[1:3]\n",
    "\n",
    "#define the polynomial we are optimizing\n",
    "f = 1 + x[1]^4 + x[2]^4 + x[3]^4 + x[1]*x[2]*x[3] + x[2]\n",
    "\n",
    "\n",
    "#the TS is to use term sparsity (need to read about this)\n",
    "\n",
    "#opt is the optimal value \n",
    "#sol is the solution x\n",
    "#TS is type of term sparsity \n",
    "#solution=true calculates the actual true solution!\n",
    "opt, sol, data = tssos_first(f, x, TS=\"MD\", solution=true, tol=1e-4)"
   ]
  },
  {
   "cell_type": "code",
   "execution_count": 4,
   "metadata": {},
   "outputs": [
    {
     "data": {
      "text/plain": [
       "3-element Vector{Float64}:\n",
       "  0.4071248547842405\n",
       " -0.6630025895308121\n",
       "  0.4071248547842405"
      ]
     },
     "metadata": {},
     "output_type": "display_data"
    }
   ],
   "source": [
    "#this is the solution to the unconstrainted optimization problem\n",
    "sol "
   ]
  },
  {
   "cell_type": "code",
   "execution_count": 5,
   "metadata": {},
   "outputs": [
    {
     "data": {
      "text/plain": [
       "0.47527477775112353"
      ]
     },
     "metadata": {},
     "output_type": "display_data"
    }
   ],
   "source": [
    "#this is the objective of that problem \n",
    "\n",
    "opt "
   ]
  },
  {
   "cell_type": "code",
   "execution_count": 7,
   "metadata": {},
   "outputs": [
    {
     "name": "stdout",
     "output_type": "stream",
     "text": [
      "*********************************** TSSOS ***********************************\n",
      "TSSOS is launching...\n",
      "Starting to compute the block structure...\n",
      "-----------------------------------------------------------------------------\n",
      "The sizes of PSD blocks:\n",
      "[4, 2]\n",
      "[1, 4]\n",
      "-----------------------------------------------------------------------------\n",
      "Obtained the block structure in 9.1584e-5 seconds.\n",
      "The maximal size of blocks is 4.\n",
      "Assembling the SDP...\n",
      "There are 12 affine constraints.\n",
      "Solving the SDP...\n",
      "Problem\n",
      "  Name                   :                 \n",
      "  Objective sense        : maximize        \n",
      "  Type                   : CONIC (conic optimization problem)\n",
      "  Constraints            : 12              \n",
      "  Affine conic cons.     : 0               \n",
      "  Disjunctive cons.      : 0               \n",
      "  Cones                  : 0               \n",
      "  Scalar variables       : 1               \n",
      "  Matrix variables       : 5 (scalarized: 22)\n",
      "  Integer variables      : 0               \n",
      "\n",
      "Optimizer started.\n",
      "Presolve started.\n",
      "Linear dependency checker started.\n",
      "Linear dependency checker terminated.\n",
      "Eliminator started.\n",
      "Freed constraints in eliminator : 0\n",
      "Eliminator terminated.\n",
      "Eliminator - tries                  : 1                 time                   : 0.00            \n",
      "Lin. dep.  - tries                  : 1                 time                   : 0.00            \n",
      "Lin. dep.  - primal attempts        : 1                 successes              : 1               \n",
      "Lin. dep.  - dual attempts          : 0                 successes              : 0               \n",
      "Lin. dep.  - primal deps.           : 0                 dual deps.             : 0               \n",
      "Presolve terminated. Time: 0.00    \n",
      "Optimizer  - threads                : 24              \n",
      "Optimizer  - solved problem         : the primal      \n",
      "Optimizer  - Constraints            : 12              \n",
      "Optimizer  - Cones                  : 5               \n",
      "Optimizer  - Scalar variables       : 14                conic                  : 14              \n",
      "Optimizer  - Semi-definite variables: 1                 scalarized             : 10              \n",
      "Factor     - setup time             : 0.00            \n",
      "Factor     - dense det. time        : 0.00              GP order time          : 0.00            \n",
      "Factor     - nonzeros before factor : 65                after factor           : 65              \n",
      "Factor     - dense dim.             : 0                 flops                  : 9.66e+02        \n",
      "ITE PFEAS    DFEAS    GFEAS    PRSTATUS   POBJ              DOBJ              MU       TIME  \n",
      "0   1.4e+00  1.0e+00  1.0e+00  0.00e+00   -0.000000000e+00  -0.000000000e+00  1.0e+00  0.00  \n",
      "1   3.4e-01  2.4e-01  1.2e-01  8.13e-01   4.261567987e-01   4.398057745e-01   2.4e-01  0.00  \n",
      "2   3.0e-02  2.1e-02  2.5e-03  1.01e+00   4.552733269e-01   4.625778964e-01   2.1e-02  0.00  \n",
      "3   2.4e-03  1.7e-03  5.6e-05  1.04e+00   4.735950989e-01   4.741962136e-01   1.7e-03  0.00  \n",
      "4   8.3e-05  5.9e-05  3.6e-07  1.01e+00   4.752030553e-01   4.752240896e-01   5.9e-05  0.00  \n",
      "5   1.2e-06  8.3e-07  6.0e-10  1.00e+00   4.752732239e-01   4.752735256e-01   8.3e-07  0.00  \n",
      "6   1.3e-07  8.8e-08  2.1e-11  1.00e+00   4.752745896e-01   4.752746222e-01   8.8e-08  0.00  \n",
      "7   1.4e-08  1.0e-08  8.1e-13  1.00e+00   4.752747592e-01   4.752747630e-01   1.0e-08  0.00  \n",
      "Optimizer terminated. Time: 0.00    \n",
      "\n",
      "SDP solving time: 0.001735321 seconds.\n",
      "optimum = 0.47527475915847434\n"
     ]
    },
    {
     "data": {
      "text/plain": [
       "(0.47527475915847434, nothing, TSSOS.upop_data(3, 0, PolyVar{true}[x₁, x₂, x₃], x₁⁴ + x₂⁴ + x₃⁴ + x₁x₂x₃ + x₂ + 1, UInt8[0x04 0x00 … 0x00 0x00; 0x00 0x04 … 0x01 0x00; 0x00 0x00 … 0x00 0x00], [1, 1, 1, 1, 1, 1], UInt8[0x00 0x01 … 0x00 0x00; 0x00 0x00 … 0x01 0x00; 0x00 0x00 … 0x01 0x02], UInt8[0x00 0x00 … 0x02 0x04; 0x00 0x00 … 0x02 0x00; 0x00 0x02 … 0x00 0x00], 5, [4, 2, 2, 2, 2], Vector{UInt16}[[0x0001, 0x0005, 0x0007, 0x000a], [0x0003, 0x0008], [0x0004, 0x0006], [0x0001, 0x0003], [0x0002, 0x0009]], nothing, [[0.999999985718204 0.16577535316036462 0.4396066812363087 0.16577535316029554; 0.16577535316036462 0.027481467996959257 0.0728759569641425 0.027481468214963403; 0.4396066812363087 0.0728759569641425 0.19325403371592959 0.07287595696411214; 0.16577535316029554 0.027481468214963403 0.07287595696411214 0.027481467996936362], [0.4396066812363087 -0.10991377331146555; -0.10991377331146555 0.027481468214963403], [0.16577535316029554 -0.10991377331146555; -0.10991377331146555 0.0728759569641425], [0.999999985718204 -0.6630284191510833; -0.6630284191510833 0.4396066812363087], [0.16577535316036462 -0.10991377331146555; -0.10991377331146555 0.07287595696411214]], \"Mosek\", MathOptInterface.OPTIMAL, 0.0001, 1))"
      ]
     },
     "metadata": {},
     "output_type": "display_data"
    }
   ],
   "source": [
    "opt,sol,data = tssos_first(f, x, newton=false, TS=\"MD\")"
   ]
  },
  {
   "cell_type": "code",
   "execution_count": 8,
   "metadata": {},
   "outputs": [
    {
     "data": {
      "text/plain": [
       "3×10 Matrix{UInt8}:\n",
       " 0x00  0x01  0x00  0x00  0x02  0x01  0x00  0x01  0x00  0x00\n",
       " 0x00  0x00  0x01  0x00  0x00  0x01  0x02  0x00  0x01  0x00\n",
       " 0x00  0x00  0x00  0x01  0x00  0x00  0x00  0x01  0x01  0x02"
      ]
     },
     "metadata": {},
     "output_type": "display_data"
    }
   ],
   "source": [
    "#all the outputs are in the data return variable \n",
    "data.basis "
   ]
  },
  {
   "cell_type": "code",
   "execution_count": 9,
   "metadata": {},
   "outputs": [
    {
     "name": "stdout",
     "output_type": "stream",
     "text": [
      "*********************************** TSSOS ***********************************\n",
      "TSSOS is launching...\n",
      "Starting to compute the Gröbner basis...\n",
      "This might take much time. You can set quotient=false to close it.\n",
      "Starting to compute the block structure...\n",
      "-----------------------------------------------------------------------------\n",
      "The sizes of PSD blocks for the 1-th SOS multiplier:\n",
      "[3, 2]\n",
      "[1, 4]\n",
      "-----------------------------------------------------------------------------\n",
      "-----------------------------------------------------------------------------\n",
      "The sizes of PSD blocks for the 2-th SOS multiplier:\n",
      "[2, 1]\n",
      "[1, 2]\n",
      "-----------------------------------------------------------------------------\n",
      "Obtained the block structure in 0.126186172 seconds.\n",
      "The maximal size of blocks is 3.\n",
      "Assembling the SDP...\n",
      "There are 15 affine constraints.\n",
      "SDP assembling time: 0.056091549 seconds.\n",
      "Solving the SDP...\n",
      "Problem\n",
      "  Name                   :                 \n",
      "  Objective sense        : maximize        \n",
      "  Type                   : CONIC (conic optimization problem)\n",
      "  Constraints            : 15              \n",
      "  Affine conic cons.     : 0               \n",
      "  Disjunctive cons.      : 0               \n",
      "  Cones                  : 0               \n",
      "  Scalar variables       : 3               \n",
      "  Matrix variables       : 11 (scalarized: 71)\n",
      "  Integer variables      : 0               \n",
      "\n",
      "Optimizer started.\n",
      "Presolve started.\n",
      "Linear dependency checker started.\n",
      "Linear dependency checker terminated.\n",
      "Eliminator started.\n",
      "Freed constraints in eliminator : 0\n",
      "Eliminator terminated.\n",
      "Eliminator - tries                  : 1                 time                   : 0.00            \n",
      "Lin. dep.  - tries                  : 1                 time                   : 0.00            \n",
      "Lin. dep.  - primal attempts        : 1                 successes              : 1               \n",
      "Lin. dep.  - dual attempts          : 0                 successes              : 0               \n",
      "Lin. dep.  - primal deps.           : 0                 dual deps.             : 0               \n",
      "Presolve terminated. Time: 0.00    \n",
      "Optimizer  - threads                : 24              \n",
      "Optimizer  - solved problem         : the primal      \n",
      "Optimizer  - Constraints            : 15              \n",
      "Optimizer  - Cones                  : 6               \n",
      "Optimizer  - Scalar variables       : 19                conic                  : 17              \n",
      "Optimizer  - Semi-definite variables: 6                 scalarized             : 56              \n",
      "Factor     - setup time             : 0.00            \n",
      "Factor     - dense det. time        : 0.00              GP order time          : 0.00            \n",
      "Factor     - nonzeros before factor : 83                after factor           : 83              \n",
      "Factor     - dense dim.             : 0                 flops                  : 3.28e+03        \n",
      "ITE PFEAS    DFEAS    GFEAS    PRSTATUS   POBJ              DOBJ              MU       TIME  \n",
      "0   9.7e+00  1.0e+00  1.0e+00  0.00e+00   -0.000000000e+00  -0.000000000e+00  1.0e+00  0.00  \n",
      "1   4.1e+00  4.2e-01  1.3e-01  1.45e+00   3.365085501e-01   5.277821357e-01   4.2e-01  0.00  \n",
      "2   6.6e-01  6.8e-02  1.2e-02  8.55e-01   1.014142427e+00   1.031248276e+00   6.8e-02  0.00  \n",
      "3   1.4e-01  1.5e-02  1.2e-03  1.10e+00   7.079870342e-01   7.113333271e-01   1.5e-02  0.00  \n",
      "4   2.9e-02  2.9e-03  1.1e-04  1.04e+00   6.889360230e-01   6.895928427e-01   2.9e-03  0.00  \n",
      "5   1.6e-03  1.7e-04  1.5e-06  1.01e+00   6.862828462e-01   6.863214590e-01   1.7e-04  0.00  \n",
      "6   3.2e-05  3.3e-06  4.0e-09  1.00e+00   6.861924920e-01   6.861932750e-01   3.3e-06  0.00  \n",
      "7   1.2e-06  1.2e-07  2.8e-11  1.00e+00   6.861924663e-01   6.861924955e-01   1.2e-07  0.00  \n",
      "8   4.3e-08  4.5e-09  2.0e-13  1.00e+00   6.861925497e-01   6.861925507e-01   4.4e-09  0.00  \n",
      "Optimizer terminated. Time: 0.00    \n",
      "\n",
      "SDP solving time: 0.191959622 seconds.\n",
      "optimum = 0.6861925496579129\n",
      "Global optimality certified with relative optimality gap 0.000000%!\n"
     ]
    },
    {
     "data": {
      "text/plain": [
       "(0.6861925496579129, [0.3373389207192715, -0.6656584926258055, 0.7462565049618263], TSSOS.cpop_data(3, 0, 1, 1, PolyVar{true}[x₁, x₂, x₃], Polynomial{true, Int64}[x₁⁴ + x₂⁴ + x₃⁴ + x₁x₂x₃ + x₂ + 1, -x₁² - 2x₂² + 1, x₂² + x₃² - 1], Polynomial{true, Float64}[x₂² + x₃² - 1.0], UInt8[0x00; 0x02; 0x00;;], Matrix{UInt8}[[0x04 0x00 … 0x00 0x00; 0x00 0x00 … 0x01 0x00; 0x00 0x04 … 0x00 0x00], [0x02 0x00 0x00; 0x00 0x02 0x00; 0x00 0x00 0x00]], [[1.0, 2.0, 1.0, -2.0, 1.0, 2.0], [-1.0, -2.0, 1.0]], Matrix{UInt8}[[0x00 0x01 … 0x00 0x00; 0x00 0x00 … 0x01 0x00; 0x00 0x00 … 0x01 0x02], [0x00 0x01 0x00 0x00; 0x00 0x00 0x01 0x00; 0x00 0x00 0x00 0x01]], nothing, UInt8[0x00 0x02 … 0x02 0x02; 0x00 0x00 … 0x02 0x00; 0x00 0x00 … 0x00 0x00], UInt16[0x0005, 0x0003], Vector{UInt16}[[0x0003, 0x0002, 0x0002, 0x0002, 0x0002], [0x0002, 0x0001, 0x0001]], Vector{Vector{UInt16}}[[[0x0001, 0x0005, 0x0009], [0x0003, 0x0007], [0x0004, 0x0006], [0x0001, 0x0003], [0x0002, 0x0008]], [[0x0001, 0x0003], [0x0004], [0x0002]]], Vector{UInt16}[], nothing, [[0.9999999960751101 0.11380491953314473 0.5569024642609768; 0.11380491953314473 0.012951557529840606 0.06337824086171047; 0.5569024642609768 0.06337824086171047 0.31014035302187276], [0.44309753181413336 -0.16757906347703982; -0.16757906347703982 0.06337824086171047], [0.5569024642609768 -0.16757906347703982; -0.16757906347703982 0.05042667867143426], [0.9999999960751101 -0.6656557129789816; -0.6656557129789816 0.44309753181413336], [0.11380491953314473 -0.16757906347703982; -0.16757906347703982 0.24676211123910402]], \"Mosek\", MathOptInterface.OPTIMAL, 0.0001, 0))"
      ]
     },
     "metadata": {},
     "output_type": "display_data"
    }
   ],
   "source": [
    "#constrainted polynomial optimization \n",
    "@polyvar x[1:3]\n",
    "f = 1+x[1]^4+x[2]^4+x[3]^4+x[1]*x[2]*x[3]+x[2]\n",
    "g_1 = 1-x[1]^2-2*x[2]^2\n",
    "g_2 = x[2]^2+x[3]^2-1\n",
    "pop = [f, g_1, g_2]\n",
    "d = 2 # set the relaxation order\n",
    "#numeq is the number of equality constraints \n",
    "\n",
    "opt,sol,data = tssos_first(pop, x, d, numeq=1, TS=\"MD\", solution=true)"
   ]
  },
  {
   "cell_type": "code",
   "execution_count": 10,
   "metadata": {},
   "outputs": [
    {
     "data": {
      "text/plain": [
       "3-element Vector{Polynomial{true, Int64}}:\n",
       " x₁⁴ + x₂⁴ + x₃⁴ + x₁x₂x₃ + x₂ + 1\n",
       " -x₁² - 2x₂² + 1\n",
       " x₂² + x₃² - 1"
      ]
     },
     "metadata": {},
     "output_type": "display_data"
    }
   ],
   "source": [
    "pop "
   ]
  },
  {
   "cell_type": "code",
   "execution_count": 11,
   "metadata": {},
   "outputs": [],
   "source": [
    "#can also exploit correlative sparsity and term sparsity simultaneously (called CS-TSSOS)"
   ]
  },
  {
   "cell_type": "code",
   "execution_count": 12,
   "metadata": {},
   "outputs": [
    {
     "name": "stdout",
     "output_type": "stream",
     "text": [
      "This is Ipopt version 3.14.16, running with linear solver MUMPS 5.7.3.\n",
      "\n",
      "Number of nonzeros in equality constraint Jacobian...:        3\n",
      "Number of nonzeros in inequality constraint Jacobian.:        0\n",
      "Number of nonzeros in Lagrangian Hessian.............:       12\n",
      "\n",
      "Total number of variables............................:        3\n",
      "                     variables with only lower bounds:        0\n",
      "                variables with lower and upper bounds:        0\n",
      "                     variables with only upper bounds:        0\n",
      "Total number of equality constraints.................:        1\n",
      "Total number of inequality constraints...............:        0\n",
      "        inequality constraints with only lower bounds:        0\n",
      "   inequality constraints with lower and upper bounds:        0\n",
      "        inequality constraints with only upper bounds:        0\n",
      "\n",
      "iter    objective    inf_pr   inf_du lg(mu)  ||d||  lg(rg) alpha_du alpha_pr  ls\n",
      "   0  2.6151569e+00 1.57e-01 6.64e-02  -1.0 0.00e+00    -  0.00e+00 0.00e+00   0\n",
      "   1  2.6853727e+00 7.71e-03 6.64e+00  -2.5 6.02e-02   2.0 1.00e+00 1.00e+00h  1\n",
      "   2  2.6821405e+00 1.48e-05 5.43e-02  -2.5 2.38e-03   1.5 1.00e+00 1.00e+00h  1\n",
      "   3  2.6818296e+00 8.50e-06 5.49e-02  -2.5 4.94e-03   1.0 1.00e+00 1.00e+00h  1\n",
      "   4  2.6816673e+00 1.20e-06 6.36e-02  -2.5 2.15e-03   1.5 1.00e+00 1.00e+00h  1\n",
      "   5  2.6806581e+00 1.18e-05 1.06e-01  -2.5 1.07e-02   1.0 1.00e+00 1.00e+00h  1\n",
      "   6  2.6800702e+00 1.75e-06 1.24e-01  -2.5 4.72e-03   1.4 1.00e+00 1.00e+00h  1\n",
      "   7  2.6755980e+00 2.30e-05 2.19e-01  -2.5 2.51e-02   0.9 1.00e+00 1.00e+00f  1\n",
      "   8  2.6728587e+00 3.82e-06 2.59e-01  -2.5 1.11e-02   1.4 1.00e+00 1.00e+00h  1\n",
      "   9  2.6498387e+00 7.59e-05 4.67e-01  -2.5 6.18e-02   0.9 1.00e+00 1.00e+00f  1\n",
      "iter    objective    inf_pr   inf_du lg(mu)  ||d||  lg(rg) alpha_du alpha_pr  ls\n",
      "  10  2.6361676e+00 1.43e-05 5.46e-01  -2.5 2.64e-02   1.3 1.00e+00 1.00e+00f  1\n",
      "  11  2.5416479e+00 3.58e-04 8.08e-01  -2.5 1.33e-01   0.8 1.00e+00 1.00e+00f  1\n",
      "  12  2.8123653e+00 3.33e-07 3.94e+00  -2.5 6.26e-01   0.4 1.00e+00 1.00e+00H  1\n",
      "  13  2.5118336e+00 1.05e+00 3.26e+00  -2.5 7.94e+00  -0.1 1.00e+00 1.25e-01f  4\n",
      "  14  2.0023921e+00 1.38e-01 6.96e-01  -2.5 2.43e-01    -  1.00e+00 1.00e+00h  1\n",
      "  15  1.9471251e+00 4.18e-03 7.20e-02  -2.5 6.21e-02    -  1.00e+00 1.00e+00h  1\n",
      "  16  1.9458048e+00 7.53e-06 1.06e-03  -2.5 7.69e-03    -  1.00e+00 1.00e+00h  1\n",
      "  17  1.9458029e+00 1.24e-09 2.38e-07  -5.7 1.15e-04    -  1.00e+00 1.00e+00h  1\n",
      "  18  1.9458029e+00 1.11e-16 1.20e-14  -8.6 2.57e-08    -  1.00e+00 1.00e+00h  1\n",
      "\n",
      "Number of Iterations....: 18\n",
      "\n",
      "                                   (scaled)                 (unscaled)\n",
      "Objective...............:   1.9458028626606056e+00    1.9458028626606056e+00\n",
      "Dual infeasibility......:   1.1990408665951691e-14    1.1990408665951691e-14\n",
      "Constraint violation....:   1.1102230246251565e-16    1.1102230246251565e-16\n",
      "Variable bound violation:   0.0000000000000000e+00    0.0000000000000000e+00\n",
      "Complementarity.........:   0.0000000000000000e+00    0.0000000000000000e+00\n",
      "Overall NLP error.......:   1.1990408665951691e-14    1.1990408665951691e-14\n",
      "\n",
      "\n",
      "Number of objective function evaluations             = 26\n",
      "Number of objective gradient evaluations             = 19\n",
      "Number of equality constraint evaluations            = 27\n",
      "Number of inequality constraint evaluations          = 0\n",
      "Number of equality constraint Jacobian evaluations   = 19\n",
      "Number of inequality constraint Jacobian evaluations = 0\n",
      "Number of Lagrangian Hessian evaluations             = 18\n",
      "Total seconds in IPOPT                               = 0.004\n",
      "\n",
      "EXIT: Optimal Solution Found.\n",
      "optimum = 1.9458028626606056\n"
     ]
    },
    {
     "data": {
      "text/plain": [
       "(1.9458028626606056, [-0.5633302759649045, 0.5842341141106467, 0.7451252584793634], MathOptInterface.LOCALLY_SOLVED)"
      ]
     },
     "metadata": {},
     "output_type": "display_data"
    }
   ],
   "source": [
    "#can find a local solution of the problem with IPOPT\n",
    "\n",
    "obj,sol,status = local_solution(data.n, data.m, data.supp, data.coe, numeq=data.numeq, startpoint=rand(data.n))\n"
   ]
  }
 ],
 "metadata": {
  "kernelspec": {
   "display_name": "Julia 1.10.0",
   "language": "julia",
   "name": "julia-1.10"
  },
  "language_info": {
   "file_extension": ".jl",
   "mimetype": "application/julia",
   "name": "julia",
   "version": "1.10.0"
  }
 },
 "nbformat": 4,
 "nbformat_minor": 2
}
