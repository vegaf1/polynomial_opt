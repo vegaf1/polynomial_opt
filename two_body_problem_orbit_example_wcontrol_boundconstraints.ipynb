{
 "cells": [
  {
   "cell_type": "code",
   "execution_count": null,
   "metadata": {},
   "outputs": [],
   "source": [
    "#two body problem example\n",
    "\n",
    "using Pkg\n",
    "Pkg.activate(\".\")\n",
    "using LinearAlgebra\n",
    "using ForwardDiff\n",
    "using Plots \n",
    "using TSSOS \n",
    "using DynamicPolynomials\n",
    "using DifferentialEquations  "
   ]
  },
  {
   "cell_type": "code",
   "execution_count": null,
   "metadata": {},
   "outputs": [],
   "source": [
    "#gravitational parameter for the Earth \n",
    "μ = 3.986004418e5 #km3/s2"
   ]
  },
  {
   "cell_type": "code",
   "execution_count": null,
   "metadata": {},
   "outputs": [],
   "source": [
    "#iss initial conditions\n",
    "r0 = [6791.0; 0; 0] #km\n",
    "v0 = [0; cosd(51.5)*7.66; sind(51.5)*7.66] #km/s\n",
    "x_initial = [r0; v0]"
   ]
  },
  {
   "cell_type": "code",
   "execution_count": null,
   "metadata": {},
   "outputs": [],
   "source": [
    "#one iss period is around 90-93 minutes\n",
    "#revs = 5\n",
    "\n",
    "#working for 1/4 rev...\n",
    "#suboptimality gap of 21% \n",
    "revs = 0.25\n",
    "\n",
    "#finding the period\n",
    "r_initial = norm(r0)\n",
    "\n",
    "#finding the period for 1 rev\n",
    "iss_period = 2*pi*sqrt(r_initial^3/μ)\n",
    "\n",
    "period = revs*iss_period "
   ]
  },
  {
   "cell_type": "code",
   "execution_count": null,
   "metadata": {},
   "outputs": [],
   "source": [
    "#amount of knot points per orbit \n",
    "knot_pts = 10"
   ]
  },
  {
   "cell_type": "code",
   "execution_count": null,
   "metadata": {},
   "outputs": [],
   "source": [
    "#total number of knot points\n",
    "#N=knot_pts*revs\n",
    "\n",
    "#when revs is less than 1\n",
    "N = knot_pts"
   ]
  },
  {
   "cell_type": "code",
   "execution_count": null,
   "metadata": {},
   "outputs": [],
   "source": [
    "#define a timestep\n",
    "h = period/(N-1) "
   ]
  },
  {
   "cell_type": "code",
   "execution_count": null,
   "metadata": {},
   "outputs": [],
   "source": [
    "function two_body_dynamics(x)\n",
    "\n",
    "    q = x[1:3]\n",
    "    v = x[4:6]\n",
    "\n",
    "    a = zeros(eltype(x), size(x))\n",
    "\n",
    "    r = norm(q)\n",
    "    \n",
    "    a[1:3] = v\n",
    "\n",
    "    a[4:6] = (-μ/r^3)*q\n",
    "\n",
    "    return a\n",
    "\n",
    "end"
   ]
  },
  {
   "cell_type": "code",
   "execution_count": null,
   "metadata": {},
   "outputs": [],
   "source": [
    "function rk4_integrator(x)\n",
    "\n",
    "\n",
    "    f1 = two_body_dynamics(x)\n",
    "    f2 = two_body_dynamics(x+0.5*h*f1)\n",
    "    f3 = two_body_dynamics(x+0.5*h*f2)\n",
    "    f4 = two_body_dynamics(x+h*f3)\n",
    "\n",
    "    xnext = x + (h/6.0)*(f1+2*f2+2*f3+f4)\n",
    "\n",
    "    return xnext \n",
    "\n",
    "end"
   ]
  },
  {
   "cell_type": "code",
   "execution_count": null,
   "metadata": {},
   "outputs": [],
   "source": [
    "#integrate with symplectic euler to see what happens "
   ]
  },
  {
   "cell_type": "code",
   "execution_count": null,
   "metadata": {},
   "outputs": [],
   "source": [
    "#semi implicit euler \n",
    "\n",
    "#input is state at timestep k \n",
    "#x = [qk, vk]\n",
    "\n",
    "function symplectic_euler(x)\n",
    "\n",
    "    #the q and the v are already scaled \n",
    "\n",
    "    #qk\n",
    "    q = x[1:3]\n",
    "\n",
    "    #vk\n",
    "    v = x[4:6]\n",
    "\n",
    "    #next timestep\n",
    "    xnext = zeros(6)\n",
    "\n",
    "    ak = (-μ/(norm(q)^3))*q\n",
    "\n",
    "    #explicit euler on the velocities\n",
    "    #vk1\n",
    "    xnext[4:6] = v + h*ak\n",
    "\n",
    "    #implicit euler on the positions\n",
    "    #qk1\n",
    "    xnext[1:3] = q + h*xnext[4:6]\n",
    "\n",
    "    #xnext = [xk1, vk1] (state at timestep k+1)\n",
    "    return xnext \n",
    "\n",
    "end"
   ]
  },
  {
   "cell_type": "code",
   "execution_count": null,
   "metadata": {},
   "outputs": [],
   "source": [
    "#integrate the orbit with symplectic euler to see if the orbit closes\n",
    "\n",
    "xtraj = zeros(6, N)\n",
    "\n",
    "xtraj[:,1] = x_initial"
   ]
  },
  {
   "cell_type": "code",
   "execution_count": null,
   "metadata": {},
   "outputs": [],
   "source": [
    "for i=1:N-1\n",
    "\n",
    "    xtraj[:,i+1] = symplectic_euler(xtraj[:,i])\n",
    "\n",
    "end"
   ]
  },
  {
   "cell_type": "code",
   "execution_count": null,
   "metadata": {},
   "outputs": [],
   "source": [
    "xtraj "
   ]
  },
  {
   "cell_type": "code",
   "execution_count": null,
   "metadata": {},
   "outputs": [],
   "source": [
    "plot(xtraj[1,:], xtraj[2,:], xtraj[3,:])"
   ]
  },
  {
   "cell_type": "code",
   "execution_count": null,
   "metadata": {},
   "outputs": [],
   "source": [
    "#not completely periodic. off in the y and the z be 10's of km"
   ]
  },
  {
   "cell_type": "code",
   "execution_count": null,
   "metadata": {},
   "outputs": [],
   "source": [
    "#integrate with rk4 to see how much better it is compared to symplectic euler\n",
    "x_traj_rk4 = zeros(6, N)"
   ]
  },
  {
   "cell_type": "code",
   "execution_count": null,
   "metadata": {},
   "outputs": [],
   "source": [
    "x_traj_rk4[:,1] = x_initial "
   ]
  },
  {
   "cell_type": "code",
   "execution_count": null,
   "metadata": {},
   "outputs": [],
   "source": [
    "for i = 1:N-1\n",
    "\n",
    "    x_traj_rk4[:,i+1] = rk4_integrator(x_traj_rk4[:,i])\n",
    "\n",
    "end"
   ]
  },
  {
   "cell_type": "code",
   "execution_count": null,
   "metadata": {},
   "outputs": [],
   "source": [
    "plot(x_traj_rk4[1,:], x_traj_rk4[2,:], x_traj_rk4[3,:])"
   ]
  },
  {
   "cell_type": "code",
   "execution_count": null,
   "metadata": {},
   "outputs": [],
   "source": [
    "#difference between the symplectic euler and rk4 final positions after 5 rev sim\n",
    "x_traj_rk4[:,end] - xtraj[:,end] "
   ]
  },
  {
   "cell_type": "code",
   "execution_count": null,
   "metadata": {},
   "outputs": [],
   "source": [
    "function two_body_dynamics_form!(du, u, p, t)\n",
    "\n",
    "    du[1:6] = two_body_dynamics(u[1:6])\n",
    "\n",
    "end"
   ]
  },
  {
   "cell_type": "code",
   "execution_count": null,
   "metadata": {},
   "outputs": [],
   "source": [
    "#rk78 integrator using DifferentialEquations.jl\n",
    "function two_body_dynamics_integrate(x_0, period)\n",
    "\n",
    "    tspan = (0.0, period)\n",
    "    prob = ODEProblem(two_body_dynamics_form!, x_0, tspan)\n",
    "    sol = solve(prob, TsitPap8(), abstol=1e-12, reltol=1e-12)\n",
    "\n",
    "\n",
    "    return sol \n",
    "end"
   ]
  },
  {
   "cell_type": "code",
   "execution_count": null,
   "metadata": {},
   "outputs": [],
   "source": [
    "function get_state(solution)\n",
    "    \n",
    "    N = size(solution.u)[1]\n",
    "\n",
    "    all_states = zeros(6, N)\n",
    "\n",
    "    for i=1:N\n",
    "        all_states[:,i] = solution.u[i][1:6]\n",
    "    end\n",
    "    \n",
    "    #all states and all stm are functions of t\n",
    "    #solution.t is the time\n",
    "    return all_states\n",
    "end"
   ]
  },
  {
   "cell_type": "code",
   "execution_count": null,
   "metadata": {},
   "outputs": [],
   "source": [
    "period  "
   ]
  },
  {
   "cell_type": "code",
   "execution_count": null,
   "metadata": {},
   "outputs": [],
   "source": [
    "#use rk78 to integrate the initial condition to 5 revs and check the trajectory \n",
    "final_state_sol = two_body_dynamics_integrate(x_initial, period)"
   ]
  },
  {
   "cell_type": "code",
   "execution_count": null,
   "metadata": {},
   "outputs": [],
   "source": [
    "all_states = get_state(final_state_sol)"
   ]
  },
  {
   "cell_type": "code",
   "execution_count": null,
   "metadata": {},
   "outputs": [],
   "source": [
    "plot(all_states[1,:], all_states[2,:], all_states[3,:]) "
   ]
  },
  {
   "cell_type": "code",
   "execution_count": null,
   "metadata": {},
   "outputs": [],
   "source": [
    "size(all_states)[2]"
   ]
  },
  {
   "cell_type": "code",
   "execution_count": null,
   "metadata": {},
   "outputs": [],
   "source": [
    "#find a good position and velocity scale \n",
    "\n",
    "position_normz = zeros(size(all_states)[2])\n",
    "\n",
    "velocity_normz = zeros(size(all_states)[2])\n",
    "\n",
    "for i=1:size(all_states)[2]\n",
    "\n",
    "    position_normz[i] = norm(all_states[1:3, i])\n",
    "\n",
    "    velocity_normz[i] = norm(all_states[4:6, i])\n",
    "\n",
    "end"
   ]
  },
  {
   "cell_type": "code",
   "execution_count": null,
   "metadata": {},
   "outputs": [],
   "source": [
    "position_scale = maximum(position_normz) \n",
    "\n",
    "#try setting the timescale to scale the period to 1 \n",
    "#works for the ipopt example \n",
    "time_scale = period  \n",
    "\n",
    "#scale the maximum velocity to 1\n",
    "#time_scale = position_scale/maximum(velocity_normz)\n",
    "\n",
    "velocity_scale = position_scale/time_scale\n",
    "\n",
    "acceleration_scale = position_scale/time_scale^2\n",
    "\n",
    "μ_scaled = μ/(position_scale^3/time_scale^2)\n",
    "\n",
    "h_scaled = h/time_scale"
   ]
  },
  {
   "cell_type": "code",
   "execution_count": null,
   "metadata": {},
   "outputs": [],
   "source": [
    "time_scale "
   ]
  },
  {
   "cell_type": "code",
   "execution_count": null,
   "metadata": {},
   "outputs": [],
   "source": [
    "position_scale "
   ]
  },
  {
   "cell_type": "code",
   "execution_count": null,
   "metadata": {},
   "outputs": [],
   "source": [
    "#difference between ground truth (rk78) and the two integrators (rk4 and semi implicit euler)\n",
    "\n",
    "diff_semi_euler = all_states[:,end] - xtraj[:,end]"
   ]
  },
  {
   "cell_type": "code",
   "execution_count": null,
   "metadata": {},
   "outputs": [],
   "source": [
    "diff_rk4 = all_states[:,end] - x_traj_rk4[:,end]"
   ]
  },
  {
   "cell_type": "code",
   "execution_count": null,
   "metadata": {},
   "outputs": [],
   "source": [
    "#going to try the polynomial optimization \n",
    "\n",
    "@polyvar q[1:3, 1:N]\n",
    "@polyvar v[1:3, 1:N]\n",
    "\n",
    "@polyvar a[1:3, 1:N]\n",
    "\n",
    "@polyvar r[1:N]\n",
    "\n",
    "@polyvar u[1:3,1:N-1]"
   ]
  },
  {
   "cell_type": "code",
   "execution_count": null,
   "metadata": {},
   "outputs": [],
   "source": [
    "\n",
    "Qq = Matrix(1.0*I, 3,3)\n",
    "\n",
    "Qv = Matrix(1.0*I, 3,3)"
   ]
  },
  {
   "cell_type": "code",
   "execution_count": null,
   "metadata": {},
   "outputs": [],
   "source": [
    "x_initial "
   ]
  },
  {
   "cell_type": "code",
   "execution_count": null,
   "metadata": {},
   "outputs": [],
   "source": [
    "#set in kiloNewtons (kN)\n",
    "umax = 20e-9\n",
    "\n",
    "#in scaled units \n",
    "umax_bound = umax/acceleration_scale"
   ]
  },
  {
   "cell_type": "code",
   "execution_count": null,
   "metadata": {},
   "outputs": [],
   "source": [
    "#found visually from the unconstrained control case\n",
    "#this is in the scaled units \n",
    "\n",
    "#with the acceleration scale, this corresponds to a maximum of 0.4 N \n",
    "#this works \n",
    "#u_max_bound = 0.05\n",
    "\n",
    "\n",
    "\n",
    "#testing \n",
    "#doesn't work. maybe not bounding the control space enough \n",
    "#u_max_bound = 1/acceleration_scale"
   ]
  },
  {
   "cell_type": "code",
   "execution_count": null,
   "metadata": {},
   "outputs": [],
   "source": [
    "#cost function \n",
    "\n",
    "f=0\n",
    "\n",
    "#decreasae the semi major axis\n",
    "for i=1:N\n",
    "\n",
    "    f+= 1.0*r[i]\n",
    "\n",
    "end\n",
    "\n",
    "\n",
    "#add a cost on controls? (maybe), but it would avoid the bang-bang solution we want \n",
    "#introduce a cost or constraint or both\n",
    "\n",
    "#for i=1:N-1\n",
    "\n",
    "    #kinda works\n",
    "\n",
    "    #    f += u[:,i]'*u[:,i]\n",
    "#end\n"
   ]
  },
  {
   "cell_type": "code",
   "execution_count": null,
   "metadata": {},
   "outputs": [],
   "source": [
    "#initialize equality and inequality constraints \n",
    "eq = []\n",
    "ineq = []"
   ]
  },
  {
   "cell_type": "code",
   "execution_count": null,
   "metadata": {},
   "outputs": [],
   "source": [
    "x_initial "
   ]
  },
  {
   "cell_type": "code",
   "execution_count": null,
   "metadata": {},
   "outputs": [],
   "source": [
    "x_initial_scaled = [x_initial[1:3]/position_scale; x_initial[4:6]/velocity_scale]"
   ]
  },
  {
   "cell_type": "code",
   "execution_count": null,
   "metadata": {},
   "outputs": [],
   "source": [
    "#set the initial condition constraints\n",
    "append!(eq, [q[1,1] - x_initial_scaled[1]])\n",
    "append!(eq, [q[2,1] - x_initial_scaled[2]])\n",
    "append!(eq, [q[3,1] - x_initial_scaled[3]])\n",
    "\n",
    "append!(eq, [v[1,1] - x_initial_scaled[4]])\n",
    "append!(eq, [v[2,1] - x_initial_scaled[5]])\n",
    "append!(eq, [v[3,1] - x_initial_scaled[6]])"
   ]
  },
  {
   "cell_type": "code",
   "execution_count": null,
   "metadata": {},
   "outputs": [],
   "source": [
    "#scaling all the units"
   ]
  },
  {
   "cell_type": "code",
   "execution_count": null,
   "metadata": {},
   "outputs": [],
   "source": [
    "#set the dynamics constraint between each timestep \n",
    "\n",
    "for i=1:N\n",
    "\n",
    "    #acceleration constraint\n",
    "    append!(eq, a[:,i]*r[i]^3 + μ_scaled*q[:,i])\n",
    "\n",
    "    #slack r constraint \n",
    "    append!(eq, [r[i]^2 - q[:,i]'*q[:,i]])\n",
    "\n",
    "end"
   ]
  },
  {
   "cell_type": "code",
   "execution_count": null,
   "metadata": {},
   "outputs": [],
   "source": [
    "#set a constraint on the r's\n",
    "for i=1:N\n",
    "\n",
    "    #lower bound on r that we want to reach \n",
    "    append!(ineq, [r[i]-0.75])\n",
    "\n",
    "    #r is always positive (redundant constraint)\n",
    "    append!(ineq, [r[i]])\n",
    "\n",
    "\n",
    "end"
   ]
  },
  {
   "cell_type": "code",
   "execution_count": null,
   "metadata": {},
   "outputs": [],
   "source": [
    "#two types of control constraints. bound constraint \n",
    "# and norm constraint (socp constraint). \n",
    "#not sure if it can be handeled without squaring it and making it a polynomial \n",
    "\n",
    "#bound constraint \n",
    "for i=1:N-1\n",
    "\n",
    "    #append!(ineq, norm(u_max_bound - u[1,i], 1))\n",
    "    #maybe it can't handle the norm?\n",
    "    #append!(ineq, norm(u[1,i] - u_max_bound, 1))\n",
    "\n",
    "\n",
    "    #bound constraints\n",
    "    #order 1 polynomial \n",
    "    #two inequalities to represent the absolute value \n",
    "    #g(x) >= 0\n",
    "    append!(ineq, [umax_bound - u[1,i]])\n",
    "    append!(ineq, [u[1,i] + umax_bound])\n",
    "\n",
    "    append!(ineq, [umax_bound - u[2,i]])\n",
    "    append!(ineq, [u[2,i] + umax_bound])\n",
    "\n",
    "    append!(ineq, [umax_bound - u[3,i]])\n",
    "    append!(ineq, [u[3,i] + umax_bound])\n",
    "\n",
    "\n",
    "end"
   ]
  },
  {
   "cell_type": "code",
   "execution_count": null,
   "metadata": {},
   "outputs": [],
   "source": [
    "#check all the inequality constraints\n",
    "ineq "
   ]
  },
  {
   "cell_type": "code",
   "execution_count": null,
   "metadata": {},
   "outputs": [],
   "source": [
    "#add a control constraint. square the socp constraint to make it a polynomial\n",
    "\n",
    "#leaving out for now..\n",
    "# for i=1:N-1\n",
    "\n",
    "#     append!(ineq, umax_scaled^2 - u[:,i]'*u[:,i])\n",
    "\n",
    "# end"
   ]
  },
  {
   "cell_type": "code",
   "execution_count": null,
   "metadata": {},
   "outputs": [],
   "source": [
    "#check equality constraints\n",
    "eq "
   ]
  },
  {
   "cell_type": "code",
   "execution_count": null,
   "metadata": {},
   "outputs": [],
   "source": [
    "#assuming mass is 1"
   ]
  },
  {
   "cell_type": "code",
   "execution_count": null,
   "metadata": {},
   "outputs": [],
   "source": [
    "for i=1:N-1\n",
    "\n",
    "    #velocity dynamics constraint\n",
    "    #added a control  \n",
    "    append!(eq, v[:,i+1] - (v[:,i] + h_scaled*(a[:,i] + u[:,i])))\n",
    "\n",
    "    #position dynamics constraint \n",
    "    append!(eq, q[:,i+1] - (q[:,i] + h_scaled*v[:,i+1]))\n",
    "\n",
    "end"
   ]
  },
  {
   "cell_type": "code",
   "execution_count": null,
   "metadata": {},
   "outputs": [],
   "source": [
    "#add the inequality constraint\n",
    "pop = append!([f], ineq)\n",
    "\n",
    "#add the equality constraint\n",
    "pop = append!(pop, eq)"
   ]
  },
  {
   "cell_type": "code",
   "execution_count": null,
   "metadata": {},
   "outputs": [],
   "source": [
    "#relaxation order\n",
    "d = 2"
   ]
  },
  {
   "cell_type": "code",
   "execution_count": null,
   "metadata": {},
   "outputs": [],
   "source": [
    "#concatenate all the variables together \n",
    "var = [vec(q); vec(v); vec(a); r; vec(u)]"
   ]
  },
  {
   "cell_type": "code",
   "execution_count": null,
   "metadata": {},
   "outputs": [],
   "source": [
    "#solve \n",
    "#TS defines term sparsity \n",
    "#without the control bound constraint it takes 18 seconds for 5 revs!\n",
    "#the local solver is unable to refine the solution for 5 revs because the solution to the sdp is a \n",
    "#bad initial guess to the nlp solver. it doesn't satisfy the constraints...\n",
    "\n",
    "#kinda working with some supoptimality gap for 1/4 rev \n",
    "opt, sol, data = cs_tssos_first(pop, var, d, numeq=length(eq), TS=\"MD\", solution=true)"
   ]
  },
  {
   "cell_type": "code",
   "execution_count": null,
   "metadata": {},
   "outputs": [],
   "source": [
    "#the data.moment extracts the moment matrix and it is a vector of \n",
    "#matrices that construct the block diagonals of the moment matrix"
   ]
  },
  {
   "cell_type": "code",
   "execution_count": null,
   "metadata": {},
   "outputs": [],
   "source": [
    "all_condition_numbers = zeros(size(data.moment)[1]) \n",
    "\n",
    "for i=1:size(data.moment)[1]\n",
    "\n",
    "    all_condition_numbers[i] = cond(data.moment[i])\n",
    "    \n",
    "end"
   ]
  },
  {
   "cell_type": "code",
   "execution_count": null,
   "metadata": {},
   "outputs": [],
   "source": [
    "findmax(all_condition_numbers) "
   ]
  },
  {
   "cell_type": "code",
   "execution_count": null,
   "metadata": {},
   "outputs": [],
   "source": [
    "#need to reshape this \n",
    "x_traj_pop = sol[1: size(vec(q))[1]]\n",
    "\n",
    "x_traj_pop = reshape(x_traj_pop, 3, N)"
   ]
  },
  {
   "cell_type": "code",
   "execution_count": null,
   "metadata": {},
   "outputs": [],
   "source": [
    "norm(x_traj_pop[:,1]) "
   ]
  },
  {
   "cell_type": "code",
   "execution_count": null,
   "metadata": {},
   "outputs": [],
   "source": [
    "v_traj_pop = sol[size(vec(q))[1]+1: size(vec(q))[1] + size(vec(v))[1]]\n",
    "\n",
    "v_traj_pop = reshape(v_traj_pop, 3, N)"
   ]
  },
  {
   "cell_type": "code",
   "execution_count": null,
   "metadata": {},
   "outputs": [],
   "source": [
    "a_traj_pop = sol[size(vec(q))[1]+size(vec(v))[1]+1: size(vec(q))[1] + size(vec(v))[1] + size(vec(a))[1]]\n",
    "\n",
    "a_traj_pop = reshape(a_traj_pop, 3, N)"
   ]
  },
  {
   "cell_type": "code",
   "execution_count": null,
   "metadata": {},
   "outputs": [],
   "source": [
    "r_traj_pop = sol[size(vec(q))[1]+size(vec(v))[1]+size(vec(a))[1]+1: size(vec(q))[1]+size(vec(v))[1]+size(vec(a))[1] + size(vec(r))[1]]"
   ]
  },
  {
   "cell_type": "code",
   "execution_count": null,
   "metadata": {},
   "outputs": [],
   "source": [
    "u_traj_pop = sol[size(vec(q))[1]+size(vec(v))[1]+size(vec(a))[1]+size(vec(r))[1]+1: end]\n",
    "\n",
    "u_traj_pop = reshape(u_traj_pop, 3, N-1)"
   ]
  },
  {
   "cell_type": "code",
   "execution_count": null,
   "metadata": {},
   "outputs": [],
   "source": [
    "plot(u_traj_pop[1,:]*acceleration_scale*1e3, title=\"x control\", ylabel=\"Control (N)\", xlabel=\"Timestep\") "
   ]
  },
  {
   "cell_type": "code",
   "execution_count": null,
   "metadata": {},
   "outputs": [],
   "source": [
    "plot(u_traj_pop[2,:]*acceleration_scale*1e3, title=\"y control\", ylabel=\"Control (N)\", xlabel=\"Timestep\") "
   ]
  },
  {
   "cell_type": "code",
   "execution_count": null,
   "metadata": {},
   "outputs": [],
   "source": [
    "plot(u_traj_pop[3,:]*acceleration_scale*1e3, title=\"z control\", ylabel=\"Control (N)\", xlabel=\"Timestep\") "
   ]
  },
  {
   "cell_type": "code",
   "execution_count": null,
   "metadata": {},
   "outputs": [],
   "source": [
    "plot(x_traj_pop[1,:], x_traj_pop[2,:], x_traj_pop[3,:])\n",
    "\n",
    "#plot!(xtraj[1,:]/position_scale, xtraj[2,:]/position_scale, xtraj[3,:]/position_scale)"
   ]
  },
  {
   "cell_type": "code",
   "execution_count": null,
   "metadata": {},
   "outputs": [],
   "source": [
    "difference = x_traj_pop - xtraj[1:3, :]/position_scale "
   ]
  },
  {
   "cell_type": "code",
   "execution_count": null,
   "metadata": {},
   "outputs": [],
   "source": [
    "#r constraint not being satisfied..."
   ]
  },
  {
   "cell_type": "code",
   "execution_count": null,
   "metadata": {},
   "outputs": [],
   "source": [
    "#check the initial condition. constraint not satisfied...\n",
    "x_traj_pop[:,1] - x_initial_scaled[1:3]"
   ]
  },
  {
   "cell_type": "code",
   "execution_count": null,
   "metadata": {},
   "outputs": [],
   "source": [
    "v_traj_pop[:,1] - x_initial_scaled[4:6]"
   ]
  },
  {
   "cell_type": "code",
   "execution_count": null,
   "metadata": {},
   "outputs": [],
   "source": [
    "#check the constraints: \n",
    "\n",
    "position_constraint = zeros(3,N-1)\n",
    "\n",
    "velocity_constraint = zeros(3,N-1)\n",
    "\n",
    "acceleration_constraint = zeros(3,N)\n",
    "\n",
    "r_constraint = zeros(N)"
   ]
  },
  {
   "cell_type": "code",
   "execution_count": null,
   "metadata": {},
   "outputs": [],
   "source": [
    "x_traj_pop "
   ]
  },
  {
   "cell_type": "code",
   "execution_count": null,
   "metadata": {},
   "outputs": [],
   "source": [
    "for i=1:N-1\n",
    "\n",
    "    \n",
    "    velocity_constraint[:,i] = v_traj_pop[:,i+1] - (v_traj_pop[:,i] + h_scaled*(a_traj_pop[:,i] + u_traj_pop[:,i]))\n",
    "\n",
    "    position_constraint[:,i] = x_traj_pop[:,i+1] - (x_traj_pop[:,i] + h_scaled*v_traj_pop[:,i+1])\n",
    "    \n",
    "\n",
    "end"
   ]
  },
  {
   "cell_type": "code",
   "execution_count": null,
   "metadata": {},
   "outputs": [],
   "source": [
    "for i=1:N\n",
    "\n",
    "    acceleration_constraint[:,i] = a_traj_pop[:,i]*r_traj_pop[i]^3 + μ_scaled*x_traj_pop[:,i]\n",
    "\n",
    "    r_constraint[i] = r_traj_pop[i]^2 - x_traj_pop[:,i]'*x_traj_pop[:,i]\n",
    "\n",
    "end"
   ]
  },
  {
   "cell_type": "code",
   "execution_count": null,
   "metadata": {},
   "outputs": [],
   "source": [
    "position_constraint  "
   ]
  },
  {
   "cell_type": "code",
   "execution_count": null,
   "metadata": {},
   "outputs": [],
   "source": [
    "plot(position_constraint')"
   ]
  },
  {
   "cell_type": "code",
   "execution_count": null,
   "metadata": {},
   "outputs": [],
   "source": [
    "plot(velocity_constraint')"
   ]
  },
  {
   "cell_type": "code",
   "execution_count": null,
   "metadata": {},
   "outputs": [],
   "source": [
    "plot(acceleration_constraint')"
   ]
  },
  {
   "cell_type": "code",
   "execution_count": null,
   "metadata": {},
   "outputs": [],
   "source": [
    "#satisfies the constraints for 0.25 revs..."
   ]
  }
 ],
 "metadata": {
  "kernelspec": {
   "display_name": "Julia 1.10.0",
   "language": "julia",
   "name": "julia-1.10"
  },
  "language_info": {
   "file_extension": ".jl",
   "mimetype": "application/julia",
   "name": "julia",
   "version": "1.10.0"
  }
 },
 "nbformat": 4,
 "nbformat_minor": 2
}
